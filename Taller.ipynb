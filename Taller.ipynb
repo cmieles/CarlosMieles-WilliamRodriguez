{
  "cells": [
    {
      "cell_type": "markdown",
      "metadata": {
        "id": "view-in-github",
        "colab_type": "text"
      },
      "source": [
        "<a href=\"https://colab.research.google.com/github/cmieles/CarlosMieles-WilliamRodriguez/blob/main/Taller.ipynb\" target=\"_parent\"><img src=\"https://colab.research.google.com/assets/colab-badge.svg\" alt=\"Open In Colab\"/></a>"
      ]
    },
    {
      "cell_type": "code",
      "source": [
        "#Construir un programa que solicite entradas de usuario por consola, el usuario ingresa la cantidad de materias que cursa, luego le solicita que ingrese el nombre de cada\n",
        "#asignatura que cursa y luego imprime una lista con las materias.\n",
        "\n",
        "subjects = [\"Matemáticas\", \"Física\", \"Química\", \"Historia\", \"Lengua\"]\n",
        "for subject in subjects:\n",
        "    print(\"Yo estudio \" + subject)"
      ],
      "metadata": {
        "id": "PalpdewcUgH_"
      },
      "execution_count": null,
      "outputs": []
    },
    {
      "cell_type": "code",
      "source": [
        "#Construir un programa que, usando la lista construida en el programa anterior le pregunte al usuario que nota espera sacar para cada materia en el primer corte.\n",
        "\n",
        "notas=[]\n",
        "\n",
        "for i in range(len(listamaterias)):\n",
        "  while True:\n",
        "    notastring=input(\"ingrese la nota que espera de \"+listamaterias[i]+': ')\n",
        "    notastring=notastring.replace(',','.')\n",
        "    nota=float(notastring)\n",
        "    \n",
        "    if nota>5 or nota<0:\n",
        "      print(\"ingrese una nota valida\")\n",
        "    else: \n",
        "        notas.append(nota)\n",
        "        break\n",
        "\n",
        "print(notas)"
      ],
      "metadata": {
        "id": "IFtOy7WHU9gD"
      },
      "execution_count": null,
      "outputs": []
    },
    {
      "cell_type": "code",
      "source": [
        "#Construir un programa que, revisando la lista de notas de punto anterior le muestre dos listas con las materias aprobadas y las materias reprobadas\n",
        "\n",
        "aprobadas=[]\n",
        "reprobadas=[]\n",
        "\n",
        "for i in range(len(listamaterias)):\n",
        "  if notas[i]<3:\n",
        "    reprobadas.append(listamaterias[i])\n",
        "  else:\n",
        "    aprobadas.append(listamaterias[i])\n",
        "\n",
        "print(\"Materias aprobadas\",aprobadas)\n",
        "print(\"Materias reprobadas\",reprobadas)"
      ],
      "metadata": {
        "id": "dyOsrhlMWP12"
      },
      "execution_count": null,
      "outputs": []
    },
    {
      "cell_type": "code",
      "source": [
        "#Construir un programa que reciba una palabra o frase del usuario y verifique si lo que fue ingresado es un palindromo\n",
        "\n",
        "palabra=\"Carlos juega muy bien futbol\"\n",
        "palabra=palabra.lower()\n",
        "palabra=palabra.replace(' ','')\n",
        "palabralist=list(palabra)\n",
        "palabralist2=palabralist.copy()\n",
        "palabralist2.reverse()\n",
        "print(palabralist2)\n",
        "print(palabralist)\n",
        "\n",
        "if palabralist == palabralist2:\n",
        "  print(\"es palindromo\")\n",
        "else:\n",
        "  print(\"no es palindromo\")"
      ],
      "metadata": {
        "id": "cFQ7haUdWdWs"
      },
      "execution_count": null,
      "outputs": []
    },
    {
      "cell_type": "code",
      "source": [
        "#Construir un programa que reciba dos vectores ingresados por el usuario y le retorne el producto escalar\n",
        "\n",
        "a = (1, 2)\n",
        "b = (-1, 0)\n",
        "product = 0\n",
        "for i in range(len(a)):\n",
        "    product += a[i]*b[i]\n",
        "print(\"El producto de los vectores\" + str(a) + \" y \" + str(b) + \" es \" + str(product)) "
      ],
      "metadata": {
        "id": "SRL4I_2IXDmG"
      },
      "execution_count": null,
      "outputs": []
    },
    {
      "cell_type": "code",
      "source": [
        "#Construir un programa al que se le ingresa el monto a pagar por el usuario, luego recibe la cantidad de dinero que ingresó el usuario y le entrega el cambio en las denominaciones colombianas \n",
        "#más grandes que pueda. Ejemplo:\\ Monto a pagar 16700\\ Monto con el que se paga: 20000\\ El cambio es:\\ 1 billete de 2000\\ 1 moneda de 1000\\ 1 moneda de 200\\ 1 moneda de 100\n",
        "\n",
        "numeros=[1,4,3,4,5,6]\n",
        "\n",
        "for elemento in numeros:\n",
        "  print(elemento)\n",
        "\n",
        "suma=0\n",
        "\n",
        "for elemento in numeros:\n",
        "  suma=suma+elemento\n",
        "\n",
        "print(suma)\n",
        "\n",
        "\n",
        "cambio=23550\n",
        "denominaciones=[100000,50000,20000,10000,5000,2000,1000,500,200,100,50]\n",
        "for denominacion in denominaciones:\n",
        "  cantidad=cambio//denominacion\n",
        "  cambio=cambio%denominacion\n",
        "  if cantidad>0:\n",
        "    print(cantidad,\"de \",denominacion)"
      ],
      "metadata": {
        "id": "NabWT5wAYRTL"
      },
      "execution_count": null,
      "outputs": []
    }
  ],
  "metadata": {
    "colab": {
      "collapsed_sections": [],
      "name": "Te damos la bienvenida a Colaboratory",
      "toc_visible": true,
      "provenance": [],
      "include_colab_link": true
    },
    "kernelspec": {
      "display_name": "Python 3",
      "name": "python3"
    }
  },
  "nbformat": 4,
  "nbformat_minor": 0
}