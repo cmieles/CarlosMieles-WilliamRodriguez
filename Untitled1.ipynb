{
  "nbformat": 4,
  "nbformat_minor": 0,
  "metadata": {
    "colab": {
      "provenance": [],
      "collapsed_sections": [],
      "toc_visible": true
    },
    "kernelspec": {
      "name": "python3",
      "display_name": "Python 3"
    },
    "language_info": {
      "name": "python"
    }
  },
  "cells": [
    {
      "cell_type": "code",
      "execution_count": null,
      "metadata": {
        "colab": {
          "base_uri": "https://localhost:8080/"
        },
        "id": "9oJFvdF9I9dt",
        "outputId": "5603d86e-6ab5-4f79-cac1-5e9122c0b91d"
      },
      "outputs": [
        {
          "output_type": "stream",
          "name": "stdout",
          "text": [
            "Hola Mundo\n"
          ]
        }
      ],
      "source": [
        "print(\"Hola Mundo\")"
      ]
    },
    {
      "cell_type": "code",
      "source": [
        "name=input(\"Ingrese su nombre: \")\n",
        "print(\"Hola\",name)"
      ],
      "metadata": {
        "colab": {
          "base_uri": "https://localhost:8080/"
        },
        "id": "w3OXeV7nMi2E",
        "outputId": "ac677711-b4dd-454e-b633-b7777692083d"
      },
      "execution_count": null,
      "outputs": [
        {
          "output_type": "stream",
          "name": "stdout",
          "text": [
            "Ingrese su nombre: Carlos\n",
            "Hola Carlos\n"
          ]
        }
      ]
    },
    {
      "cell_type": "code",
      "source": [
        "try:\n",
        "  altura=float(input(\"ingrese su altura \"))\n",
        "except ValueError:\n",
        "  print(\"el valor no es un número\")\n",
        "if altura<=0:\n",
        "  print(\"ingrese un valor positivo\")\n",
        "else:\n",
        "  imc=24\n",
        "  peso=altura**2*imc\n",
        "  print(\"Su peso ideal es: \",round(peso,2))"
      ],
      "metadata": {
        "colab": {
          "base_uri": "https://localhost:8080/"
        },
        "id": "2pCrkobIMsER",
        "outputId": "38df025f-c1d6-4570-c39c-205f0bbbb4e5"
      },
      "execution_count": null,
      "outputs": [
        {
          "output_type": "stream",
          "name": "stdout",
          "text": [
            "ingrese su altura 170\n",
            "Su peso ideal es:  693600.0\n"
          ]
        }
      ]
    },
    {
      "cell_type": "code",
      "source": [
        "entrada=int(input(\"ingrese un numero entero: \"))\n",
        "\n",
        "if(entrada>10):\n",
        "  print(\"su número es mayor que 10\")\n",
        "elif(entrada<10):\n",
        "  print(\"su número es menor que 10\")\n",
        "else:\n",
        "  print(\"su número es 10\")"
      ],
      "metadata": {
        "colab": {
          "base_uri": "https://localhost:8080/"
        },
        "id": "CfkmmIxuNIEz",
        "outputId": "65a36706-34a0-47a0-ae1f-b2c935f8c6ea"
      },
      "execution_count": null,
      "outputs": [
        {
          "output_type": "stream",
          "name": "stdout",
          "text": [
            "ingrese un numero entero: 1\n",
            "su número es menor que 10\n"
          ]
        }
      ]
    },
    {
      "cell_type": "code",
      "source": [
        "from datetime import datetime, timedelta\n",
        "from time import strftime\n",
        "\n",
        "now = datetime.now()\n",
        "now_less_5hours=now - timedelta(hours=5)\n",
        "\n",
        "current_time = now_less_5hours.strftime(\"%H:%M:%S\")\n",
        "print(\"Current Time =\", current_time)\n",
        "print(now_less_5hours.isoweekday())\n",
        "\n",
        "dia=now_less_5hours.isoweekday()\n",
        "\n",
        "if (dia == 2 or dia==4):\n",
        "  print(\"hay clase\")\n",
        "else:\n",
        "  print(\"no hay clase\")"
      ],
      "metadata": {
        "colab": {
          "base_uri": "https://localhost:8080/"
        },
        "id": "vGentyOtONKy",
        "outputId": "0dd73c8b-28b6-4a47-c05f-0f4192cff989"
      },
      "execution_count": null,
      "outputs": [
        {
          "output_type": "stream",
          "name": "stdout",
          "text": [
            "Current Time = 14:13:50\n",
            "2\n",
            "hay clase\n"
          ]
        }
      ]
    },
    {
      "cell_type": "code",
      "source": [
        "contrasena=\"test\"\n",
        "\n",
        "while True:\n",
        "  entrada=input(\"Ingrese la contraseña: \")\n",
        "  if (contrasena==entrada or entrada==\"exit\"):\n",
        "    print(\"Ingresó\")\n",
        "    break\n",
        "  else:\n",
        "    print(\"contraseña incorrecta\")"
      ],
      "metadata": {
        "colab": {
          "base_uri": "https://localhost:8080/"
        },
        "id": "oGqvDP-9OVhw",
        "outputId": "00e5b835-15b3-476b-b528-d2a593e873e0"
      },
      "execution_count": null,
      "outputs": [
        {
          "metadata": {
            "tags": null
          },
          "name": "stdout",
          "output_type": "stream",
          "text": [
            "contraseña incorrecta\n"
          ]
        }
      ]
    }
  ]
}