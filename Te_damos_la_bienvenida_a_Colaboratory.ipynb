{
  "cells": [
    {
      "cell_type": "markdown",
      "metadata": {
        "id": "view-in-github",
        "colab_type": "text"
      },
      "source": [
        "<a href=\"https://colab.research.google.com/github/cmieles/CarlosMieles-WilliamRodriguez/blob/main/Te_damos_la_bienvenida_a_Colaboratory.ipynb\" target=\"_parent\"><img src=\"https://colab.research.google.com/assets/colab-badge.svg\" alt=\"Open In Colab\"/></a>"
      ]
    },
    {
      "cell_type": "code",
      "source": [
        "#Escribir un programa que guarde en una variable el diccionario {'Euro':'€', 'Dollar':'$', 'Yen':'¥'}, \n",
        "#pregunte al usuario por una divisa y muestre su símbolo o un mensaje de aviso si la divisa no está en el diccionario.\n",
        "\n",
        "monedas = {'Euro':'€', 'Dollar':'$', 'Yen':'¥'}\n",
        "moneda = input(\"Introduce una divisa: \")\n",
        "print(monedas.get(moneda.title(), \"La divisa no está.\"))\n",
        "\n"
      ],
      "metadata": {
        "id": "e8ZobQmwPBHd",
        "outputId": "462695d4-afa3-45da-c276-fb1a11ca0bd5",
        "colab": {
          "base_uri": "https://localhost:8080/"
        }
      },
      "execution_count": 1,
      "outputs": [
        {
          "output_type": "stream",
          "name": "stdout",
          "text": [
            "Introduce una divisa: 12\n",
            "La divisa no está.\n"
          ]
        }
      ]
    },
    {
      "cell_type": "code",
      "source": [
        "#Escribir un programa que pregunte al usuario su nombre, edad, dirección y teléfono y lo guarde en un diccionario. Después debe mostrar por pantalla\n",
        "#el mensaje \\<nombre> tiene \\<edad> años, vive en \\<dirección> y su número de teléfono es \\<teléfono>.\n",
        "\n",
        "nombre = input('¿Cómo te llamas? ')\n",
        "edad = input('¿Cuántos años tienes? ')\n",
        "direccion = input('¿Cuál es tu dirección? ')\n",
        "telefono = input('¿Cuál es tu número de teléfono? ')\n",
        "persona = {'nombre': nombre, 'edad': edad, 'direccion': direccion, 'telefono': telefono}\n",
        "print(persona['nombre'], 'tiene', persona['edad'], 'años, vive en', persona['direccion'], 'y su número de teléfono es', persona['telefono'])"
      ],
      "metadata": {
        "id": "DyFxWVQuPahj"
      },
      "execution_count": null,
      "outputs": []
    },
    {
      "cell_type": "code",
      "source": [
        "#Escribir un programa que guarde en un diccionario {Plátano:1.35, Manzana:0.80, Pera:0.85, Naranja:0.70} con los precios de las frutas, pregunte al usuario \n",
        "#por una fruta, un número de kilos y muestre por pantalla el precio de ese número de kilos de fruta. Si la fruta no está en el diccionario debe mostrar un mensaje informando de ello.\n",
        "\n",
        "\n",
        "frutas = {'Plátano':1.35, 'Manzana':0.8, 'Pera':0.85, 'Naranja':0.7}\n",
        "fruta = input('¿Qué fruta quieres? ').title()\n",
        "kg = float(input('¿Cuántos kilos? '))\n",
        "if fruta in frutas:\n",
        "    print(kg, 'kilos de', fruta, 'valen', frutas[fruta]*kg, '€')\n",
        "else: \n",
        "    print(\"Lo siento, la fruta\", fruta, \"no está disponible.\")"
      ],
      "metadata": {
        "id": "-udwykoPQvqb"
      },
      "execution_count": null,
      "outputs": []
    },
    {
      "cell_type": "code",
      "source": [
        "#Escribir un programa que cree un diccionario simulando una cesta de la compra. El programa debe preguntar el artículo y su precio y añadir el par al diccionario, hasta que\n",
        " #el usuario decida terminar. Después se debe mostrar por pantalla la lista de la compra y el coste total.\n",
        "\n",
        "cesta = {}\n",
        "continuar = True\n",
        "while continuar:\n",
        "    item = input('Introduce un artículo: ')\n",
        "    precio = float(input('Introduce el precio de ' + item + ': '))\n",
        "    cesta[item] = precio\n",
        "    continuar = input('¿Quieres añadir artículos a la lista (Si/No)? ') == \"Si\"\n",
        "coste = 0\n",
        "print('Lista de la compra')\n",
        "for item, precio in cesta.items():\n",
        "    print(item, '\\t', precio)\n",
        "    coste += precio\n",
        "print('Coste total: ', coste)"
      ],
      "metadata": {
        "id": "4fOYIxVnQ9Dr"
      },
      "execution_count": null,
      "outputs": []
    },
    {
      "cell_type": "code",
      "source": [
        "#Escribir un programa que permita gestionar la base de datos de clientes de una empresa. Los clientes se guardarán en un diccionario en el que la clave de cada cliente será su NIF, \n",
        "#y el valor será otro diccionario con los datos del cliente (nombre, dirección, teléfono, correo, preferente), donde preferente tendrá el valor True si se trata de un cliente preferente. \n",
        "#El programa debe preguntar al usuario por una opción del siguiente menú: (1) Añadir cliente, (2) Eliminar cliente, (3) Mostrar cliente, (4) Listar todos los clientes, (5) Listar clientes \n",
        "#preferentes, (6) Terminar. En función de la opción elegida el programa tendrá que hacer lo siguiente:\n",
        "\n",
        "#Preguntar los datos del cliente, crear un diccionario con los datos y añadirlo a la base de datos.\n",
        "#Preguntar por el NIF del cliente y eliminar sus datos de la base de datos.\n",
        "#Preguntar por el NIF del cliente y mostrar sus datos.\n",
        "#Mostrar lista de todos los clientes de la base datos con su NIF y nombre.\n",
        "#Mostrar la lista de clientes preferentes de la base de datos con su NIF y nombre.\n",
        "#Terminar el programa.\n",
        "\n",
        "clientes = {}\n",
        "opcion = ''\n",
        "while opcion != '6':\n",
        "    if opcion == '1':\n",
        "        nif = input('Introduce NIF del cliente: ')\n",
        "        nombre = input('Introduce el nombre del cliente: ')\n",
        "        direccion = input('Introduce la dirección del cliente: ')\n",
        "        telefono = input('Introduce el teléfono del cliente: ')\n",
        "        email = input('Introduce el correo electrónico del cliente: ')\n",
        "        vip = input('¿Es un cliente preferente (S/N)? ')\n",
        "        cliente = {'nombre':nombre, 'dirección':direccion, 'teléfono':telefono, 'email':email, 'preferente':vip=='S'}\n",
        "        clientes[nif] = cliente\n",
        "    if opcion == '2':\n",
        "        nif = input('Introduce NIF del cliente: ')\n",
        "        if nif in clientes:\n",
        "            del clientes[nif]\n",
        "        else:\n",
        "            print('No existe el cliente con el nif', nif)\n",
        "    if opcion == '3':\n",
        "        nif = input('Introduce NIF del cliente: ')\n",
        "        if nif in clientes:\n",
        "            print('NIF:', nif)\n",
        "            for clave, valor in clientes[nif].items():\n",
        "                print(clave.title() + ':', valor)\n",
        "        else:\n",
        "            print('No existe el cliente con el nif', nif)\n",
        "    if opcion == '4':\n",
        "        print('Lista de clientes')\n",
        "        for clave, valor in clientes.items():\n",
        "            print(clave, valor['nombre'])\n",
        "    if opcion == '5':\n",
        "        print('Lista de clientes preferentes')\n",
        "        for clave, valor in clientes.items():\n",
        "            if valor['preferente']:\n",
        "                print(clave, valor['nombre'])\n",
        "    opcion = input('Menú de opciones\\n(1) Añadir cliente\\n(2) Eliminar cliente\\n(3) Mostrar cliente\\n(4) Listar clientes\\n(5) Listar clientes preferentes\\n(6) Terminar\\nElige una opción:')"
      ],
      "metadata": {
        "id": "ihbu2ZzGRibi"
      },
      "execution_count": null,
      "outputs": []
    }
  ],
  "metadata": {
    "colab": {
      "collapsed_sections": [],
      "name": "Te damos la bienvenida a Colaboratory",
      "toc_visible": true,
      "provenance": [],
      "include_colab_link": true
    },
    "kernelspec": {
      "display_name": "Python 3",
      "name": "python3"
    }
  },
  "nbformat": 4,
  "nbformat_minor": 0
}